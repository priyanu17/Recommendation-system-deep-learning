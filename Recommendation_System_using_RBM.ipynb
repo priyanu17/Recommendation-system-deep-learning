{
  "nbformat": 4,
  "nbformat_minor": 0,
  "metadata": {
    "colab": {
      "name": "9_03/06/20_Recommendation_System_Pankaj_Sir",
      "provenance": [],
      "collapsed_sections": [],
      "authorship_tag": "ABX9TyMnyM0HNJ1Un5REnOIsY/Cb",
      "include_colab_link": true
    },
    "kernelspec": {
      "name": "python3",
      "display_name": "Python 3"
    }
  },
  "cells": [
    {
      "cell_type": "markdown",
      "metadata": {
        "id": "view-in-github",
        "colab_type": "text"
      },
      "source": [
        "<a href=\"https://colab.research.google.com/github/priyanu17/recommendation-system-deep-learning/blob/master/Recommendation_System_using_RBM.ipynb\" target=\"_parent\"><img src=\"https://colab.research.google.com/assets/colab-badge.svg\" alt=\"Open In Colab\"/></a>"
      ]
    },
    {
      "cell_type": "code",
      "metadata": {
        "id": "ThQjVOKKtaXM",
        "colab_type": "code",
        "colab": {}
      },
      "source": [
        "import warnings\n",
        "warnings.filterwarnings(\"ignore\")"
      ],
      "execution_count": 0,
      "outputs": []
    },
    {
      "cell_type": "code",
      "metadata": {
        "id": "2r8je3wlqqVE",
        "colab_type": "code",
        "colab": {}
      },
      "source": [
        "import numpy as np\n",
        "import pandas as pd"
      ],
      "execution_count": 0,
      "outputs": []
    },
    {
      "cell_type": "code",
      "metadata": {
        "id": "nRog3Mfoagdz",
        "colab_type": "code",
        "colab": {}
      },
      "source": [
        "movies = pd.read_csv('movies.csv')\n",
        "ratings = pd.read_csv('ratings_2.csv')"
      ],
      "execution_count": 0,
      "outputs": []
    },
    {
      "cell_type": "code",
      "metadata": {
        "id": "1LaHJeG-cNtj",
        "colab_type": "code",
        "outputId": "aaf1f715-465d-4728-dbd9-ce2c84de4d55",
        "colab": {
          "base_uri": "https://localhost:8080/",
          "height": 195
        }
      },
      "source": [
        "movies.head()"
      ],
      "execution_count": 5,
      "outputs": [
        {
          "output_type": "execute_result",
          "data": {
            "text/html": [
              "<div>\n",
              "<style scoped>\n",
              "    .dataframe tbody tr th:only-of-type {\n",
              "        vertical-align: middle;\n",
              "    }\n",
              "\n",
              "    .dataframe tbody tr th {\n",
              "        vertical-align: top;\n",
              "    }\n",
              "\n",
              "    .dataframe thead th {\n",
              "        text-align: right;\n",
              "    }\n",
              "</style>\n",
              "<table border=\"1\" class=\"dataframe\">\n",
              "  <thead>\n",
              "    <tr style=\"text-align: right;\">\n",
              "      <th></th>\n",
              "      <th>movieId</th>\n",
              "      <th>title</th>\n",
              "      <th>genres</th>\n",
              "    </tr>\n",
              "  </thead>\n",
              "  <tbody>\n",
              "    <tr>\n",
              "      <th>0</th>\n",
              "      <td>1</td>\n",
              "      <td>Toy Story (1995)</td>\n",
              "      <td>Adventure|Animation|Children|Comedy|Fantasy</td>\n",
              "    </tr>\n",
              "    <tr>\n",
              "      <th>1</th>\n",
              "      <td>2</td>\n",
              "      <td>Jumanji (1995)</td>\n",
              "      <td>Adventure|Children|Fantasy</td>\n",
              "    </tr>\n",
              "    <tr>\n",
              "      <th>2</th>\n",
              "      <td>3</td>\n",
              "      <td>Grumpier Old Men (1995)</td>\n",
              "      <td>Comedy|Romance</td>\n",
              "    </tr>\n",
              "    <tr>\n",
              "      <th>3</th>\n",
              "      <td>4</td>\n",
              "      <td>Waiting to Exhale (1995)</td>\n",
              "      <td>Comedy|Drama|Romance</td>\n",
              "    </tr>\n",
              "    <tr>\n",
              "      <th>4</th>\n",
              "      <td>5</td>\n",
              "      <td>Father of the Bride Part II (1995)</td>\n",
              "      <td>Comedy</td>\n",
              "    </tr>\n",
              "  </tbody>\n",
              "</table>\n",
              "</div>"
            ],
            "text/plain": [
              "   movieId  ...                                       genres\n",
              "0        1  ...  Adventure|Animation|Children|Comedy|Fantasy\n",
              "1        2  ...                   Adventure|Children|Fantasy\n",
              "2        3  ...                               Comedy|Romance\n",
              "3        4  ...                         Comedy|Drama|Romance\n",
              "4        5  ...                                       Comedy\n",
              "\n",
              "[5 rows x 3 columns]"
            ]
          },
          "metadata": {
            "tags": []
          },
          "execution_count": 5
        }
      ]
    },
    {
      "cell_type": "code",
      "metadata": {
        "id": "FMkNvTR-cRHQ",
        "colab_type": "code",
        "outputId": "16ba572e-b0f3-449a-8aa3-89e471c4c26b",
        "colab": {
          "base_uri": "https://localhost:8080/",
          "height": 195
        }
      },
      "source": [
        "ratings.head()"
      ],
      "execution_count": 6,
      "outputs": [
        {
          "output_type": "execute_result",
          "data": {
            "text/html": [
              "<div>\n",
              "<style scoped>\n",
              "    .dataframe tbody tr th:only-of-type {\n",
              "        vertical-align: middle;\n",
              "    }\n",
              "\n",
              "    .dataframe tbody tr th {\n",
              "        vertical-align: top;\n",
              "    }\n",
              "\n",
              "    .dataframe thead th {\n",
              "        text-align: right;\n",
              "    }\n",
              "</style>\n",
              "<table border=\"1\" class=\"dataframe\">\n",
              "  <thead>\n",
              "    <tr style=\"text-align: right;\">\n",
              "      <th></th>\n",
              "      <th>userId</th>\n",
              "      <th>movieId</th>\n",
              "      <th>rating</th>\n",
              "      <th>timestamp</th>\n",
              "    </tr>\n",
              "  </thead>\n",
              "  <tbody>\n",
              "    <tr>\n",
              "      <th>0</th>\n",
              "      <td>1</td>\n",
              "      <td>1</td>\n",
              "      <td>4.0</td>\n",
              "      <td>964982703</td>\n",
              "    </tr>\n",
              "    <tr>\n",
              "      <th>1</th>\n",
              "      <td>1</td>\n",
              "      <td>3</td>\n",
              "      <td>4.0</td>\n",
              "      <td>964981247</td>\n",
              "    </tr>\n",
              "    <tr>\n",
              "      <th>2</th>\n",
              "      <td>1</td>\n",
              "      <td>6</td>\n",
              "      <td>4.0</td>\n",
              "      <td>964982224</td>\n",
              "    </tr>\n",
              "    <tr>\n",
              "      <th>3</th>\n",
              "      <td>1</td>\n",
              "      <td>47</td>\n",
              "      <td>5.0</td>\n",
              "      <td>964983815</td>\n",
              "    </tr>\n",
              "    <tr>\n",
              "      <th>4</th>\n",
              "      <td>1</td>\n",
              "      <td>50</td>\n",
              "      <td>5.0</td>\n",
              "      <td>964982931</td>\n",
              "    </tr>\n",
              "  </tbody>\n",
              "</table>\n",
              "</div>"
            ],
            "text/plain": [
              "   userId  movieId  rating  timestamp\n",
              "0       1        1     4.0  964982703\n",
              "1       1        3     4.0  964981247\n",
              "2       1        6     4.0  964982224\n",
              "3       1       47     5.0  964983815\n",
              "4       1       50     5.0  964982931"
            ]
          },
          "metadata": {
            "tags": []
          },
          "execution_count": 6
        }
      ]
    },
    {
      "cell_type": "code",
      "metadata": {
        "id": "2NnpaV09cYY9",
        "colab_type": "code",
        "colab": {}
      },
      "source": [
        "ratings = ratings.iloc[:, 0:3]"
      ],
      "execution_count": 0,
      "outputs": []
    },
    {
      "cell_type": "code",
      "metadata": {
        "id": "kfD_uBwZcl8O",
        "colab_type": "code",
        "outputId": "56dfcc7c-762a-4f0d-a6cf-4e0b4a3814f0",
        "colab": {
          "base_uri": "https://localhost:8080/",
          "height": 195
        }
      },
      "source": [
        "ratings.head()"
      ],
      "execution_count": 8,
      "outputs": [
        {
          "output_type": "execute_result",
          "data": {
            "text/html": [
              "<div>\n",
              "<style scoped>\n",
              "    .dataframe tbody tr th:only-of-type {\n",
              "        vertical-align: middle;\n",
              "    }\n",
              "\n",
              "    .dataframe tbody tr th {\n",
              "        vertical-align: top;\n",
              "    }\n",
              "\n",
              "    .dataframe thead th {\n",
              "        text-align: right;\n",
              "    }\n",
              "</style>\n",
              "<table border=\"1\" class=\"dataframe\">\n",
              "  <thead>\n",
              "    <tr style=\"text-align: right;\">\n",
              "      <th></th>\n",
              "      <th>userId</th>\n",
              "      <th>movieId</th>\n",
              "      <th>rating</th>\n",
              "    </tr>\n",
              "  </thead>\n",
              "  <tbody>\n",
              "    <tr>\n",
              "      <th>0</th>\n",
              "      <td>1</td>\n",
              "      <td>1</td>\n",
              "      <td>4.0</td>\n",
              "    </tr>\n",
              "    <tr>\n",
              "      <th>1</th>\n",
              "      <td>1</td>\n",
              "      <td>3</td>\n",
              "      <td>4.0</td>\n",
              "    </tr>\n",
              "    <tr>\n",
              "      <th>2</th>\n",
              "      <td>1</td>\n",
              "      <td>6</td>\n",
              "      <td>4.0</td>\n",
              "    </tr>\n",
              "    <tr>\n",
              "      <th>3</th>\n",
              "      <td>1</td>\n",
              "      <td>47</td>\n",
              "      <td>5.0</td>\n",
              "    </tr>\n",
              "    <tr>\n",
              "      <th>4</th>\n",
              "      <td>1</td>\n",
              "      <td>50</td>\n",
              "      <td>5.0</td>\n",
              "    </tr>\n",
              "  </tbody>\n",
              "</table>\n",
              "</div>"
            ],
            "text/plain": [
              "   userId  movieId  rating\n",
              "0       1        1     4.0\n",
              "1       1        3     4.0\n",
              "2       1        6     4.0\n",
              "3       1       47     5.0\n",
              "4       1       50     5.0"
            ]
          },
          "metadata": {
            "tags": []
          },
          "execution_count": 8
        }
      ]
    },
    {
      "cell_type": "code",
      "metadata": {
        "id": "6Argukjtc1i4",
        "colab_type": "code",
        "outputId": "3069b672-310d-450f-e4a8-9d05ffa9fab3",
        "colab": {
          "base_uri": "https://localhost:8080/",
          "height": 34
        }
      },
      "source": [
        "movies.shape"
      ],
      "execution_count": 9,
      "outputs": [
        {
          "output_type": "execute_result",
          "data": {
            "text/plain": [
              "(9742, 3)"
            ]
          },
          "metadata": {
            "tags": []
          },
          "execution_count": 9
        }
      ]
    },
    {
      "cell_type": "code",
      "metadata": {
        "id": "lJMYMtdvc4ug",
        "colab_type": "code",
        "outputId": "aeec8ba9-b1cf-4f0b-dc55-e5f625ac8832",
        "colab": {
          "base_uri": "https://localhost:8080/",
          "height": 34
        }
      },
      "source": [
        "ratings.shape"
      ],
      "execution_count": 10,
      "outputs": [
        {
          "output_type": "execute_result",
          "data": {
            "text/plain": [
              "(100836, 3)"
            ]
          },
          "metadata": {
            "tags": []
          },
          "execution_count": 10
        }
      ]
    },
    {
      "cell_type": "code",
      "metadata": {
        "id": "DWbCoqTlar6f",
        "colab_type": "code",
        "colab": {}
      },
      "source": [
        "from sklearn.model_selection import train_test_split\n",
        "training_set , test_set = train_test_split(ratings, test_size = 0.2)"
      ],
      "execution_count": 0,
      "outputs": []
    },
    {
      "cell_type": "code",
      "metadata": {
        "id": "5vd3fNKa81g0",
        "colab_type": "code",
        "outputId": "c2b42f6d-a21e-4ced-cd0c-ffab24528eb9",
        "colab": {
          "base_uri": "https://localhost:8080/",
          "height": 34
        }
      },
      "source": [
        "training_set.shape"
      ],
      "execution_count": 12,
      "outputs": [
        {
          "output_type": "execute_result",
          "data": {
            "text/plain": [
              "(80668, 3)"
            ]
          },
          "metadata": {
            "tags": []
          },
          "execution_count": 12
        }
      ]
    },
    {
      "cell_type": "code",
      "metadata": {
        "id": "hV_XiR0281cU",
        "colab_type": "code",
        "outputId": "e14c78aa-fbf9-42af-95f1-81a45f5341fe",
        "colab": {
          "base_uri": "https://localhost:8080/",
          "height": 34
        }
      },
      "source": [
        "test_set.shape"
      ],
      "execution_count": 13,
      "outputs": [
        {
          "output_type": "execute_result",
          "data": {
            "text/plain": [
              "(20168, 3)"
            ]
          },
          "metadata": {
            "tags": []
          },
          "execution_count": 13
        }
      ]
    },
    {
      "cell_type": "code",
      "metadata": {
        "id": "UEFKXOLy_YYl",
        "colab_type": "code",
        "colab": {}
      },
      "source": [
        "## Converting into numpy arrays\n",
        "training_set = np.array(training_set, dtype = 'int')\n",
        "test_set = np.array(test_set, dtype = 'int')\n"
      ],
      "execution_count": 0,
      "outputs": []
    },
    {
      "cell_type": "code",
      "metadata": {
        "id": "1NKF79Ik81ak",
        "colab_type": "code",
        "colab": {}
      },
      "source": [
        "# Getting the number of users and movies\n",
        "max_users = int(max(max(training_set[:,0]), max(test_set[:,0])))\n",
        "max_movies = int(max(max(training_set[:,1]), max(test_set[:,1])))"
      ],
      "execution_count": 0,
      "outputs": []
    },
    {
      "cell_type": "code",
      "metadata": {
        "id": "n2OudwKy81YQ",
        "colab_type": "code",
        "outputId": "e56bb1fa-54e7-4ffd-e3bb-1f7bc32085ff",
        "colab": {
          "base_uri": "https://localhost:8080/",
          "height": 50
        }
      },
      "source": [
        "print(\"Max users is : \" + str(max_users))\n",
        "print(\"Max movies is : \" + str(max_movies))"
      ],
      "execution_count": 16,
      "outputs": [
        {
          "output_type": "stream",
          "text": [
            "Max users is : 610\n",
            "Max movies is : 193609\n"
          ],
          "name": "stdout"
        }
      ]
    },
    {
      "cell_type": "code",
      "metadata": {
        "id": "od9Pt0R281V3",
        "colab_type": "code",
        "colab": {}
      },
      "source": [
        "# Converting the data into an array with users in lines and movies in columns"
      ],
      "execution_count": 0,
      "outputs": []
    },
    {
      "cell_type": "code",
      "metadata": {
        "id": "mgnXs5yS81QV",
        "colab_type": "code",
        "colab": {}
      },
      "source": [
        "def convert(data):\n",
        "  new_data = []\n",
        "  for id_users in range(1, max_users + 1):\n",
        "    id_movies = data[:,1][data[:,0] == id_users]\n",
        "    id_ratings = data[:,2][data[:,0] == id_users]\n",
        "    ratings = np.zeros(max_movies)\n",
        "    ratings[id_movies - 1] = id_ratings\n",
        "    new_data.append(list(ratings))\n",
        "  return new_data"
      ],
      "execution_count": 0,
      "outputs": []
    },
    {
      "cell_type": "code",
      "metadata": {
        "id": "N5xYb3t681Oc",
        "colab_type": "code",
        "colab": {}
      },
      "source": [
        "training_set = convert(training_set)"
      ],
      "execution_count": 0,
      "outputs": []
    },
    {
      "cell_type": "code",
      "metadata": {
        "id": "VGIhR3Fj81ME",
        "colab_type": "code",
        "colab": {}
      },
      "source": [
        "test_set = convert(test_set)"
      ],
      "execution_count": 0,
      "outputs": []
    },
    {
      "cell_type": "code",
      "metadata": {
        "id": "L5yJ00bY81KT",
        "colab_type": "code",
        "colab": {}
      },
      "source": [
        "## Importing pytorch libraries:\n",
        "import torch"
      ],
      "execution_count": 0,
      "outputs": []
    },
    {
      "cell_type": "code",
      "metadata": {
        "id": "46nyOUvV81D1",
        "colab_type": "code",
        "colab": {}
      },
      "source": [
        "# Converting the data into Torch tensors\n",
        "training_set = torch.FloatTensor(training_set)\n",
        "test_set = torch.FloatTensor(test_set)"
      ],
      "execution_count": 0,
      "outputs": []
    },
    {
      "cell_type": "code",
      "metadata": {
        "id": "QHeQYfuN81CO",
        "colab_type": "code",
        "colab": {}
      },
      "source": [
        "# Converting the ratings into binary ratings 1 (Liked) or 0 (Not Liked)\n",
        "\n",
        "# (Ratings (1, 2) -> 0, (3, 4, 5) -> 1, (Not rated -> -1))\n",
        "training_set[training_set == 0] = -1\n",
        "training_set[training_set == 1] = 0\n",
        "training_set[training_set == 2] = 0\n",
        "training_set[training_set >= 3] = 1\n",
        "\n",
        "test_set[test_set == 0] = -1\n",
        "test_set[test_set == 1] = 0\n",
        "test_set[test_set == 2] = 0\n",
        "test_set[test_set >= 3] = 1"
      ],
      "execution_count": 0,
      "outputs": []
    },
    {
      "cell_type": "code",
      "metadata": {
        "id": "IJLeBD0t81AG",
        "colab_type": "code",
        "colab": {}
      },
      "source": [
        "# Importing other pytorch libraries\n",
        "import torch.nn as nn\n",
        "import torch.nn.parallel\n",
        "import torch.optim as optim\n",
        "import torch.utils.data\n",
        "from torch.autograd import Variable"
      ],
      "execution_count": 0,
      "outputs": []
    },
    {
      "cell_type": "code",
      "metadata": {
        "id": "mv1rCdW_809F",
        "colab_type": "code",
        "colab": {}
      },
      "source": [
        "# Creating the architecture of the Restricted Boltzmann machines\n",
        "\n",
        "# Creating an RBM class\n",
        "\n",
        "class RBM():\n",
        "\n",
        "  # Initializing the weights and biases randomly\n",
        "  # nh - number of hidden nodes\n",
        "  # nv - number of visible nodes\n",
        "  # a - bias of hidden nodes w.r.t visible nodes\n",
        "  # b - bias of visible nodes w.r.t hidden nodes\n",
        "  # W - weights in the network \n",
        "  def __init__(self, nv, nh):\n",
        "    self.W = torch.randn(nh, nv)\n",
        "    \n",
        "    self.a = torch.randn(1, nh)\n",
        "    self.b = torch.randn(1, nv)\n",
        "\n",
        "  # Gibs Sampling on the hidden nodes in the network\n",
        "  def sample_h(self, x):\n",
        "    wx = torch.mm(x, self.W.t())\n",
        "    activation = wx + self.a.expand_as(wx)\n",
        "    p_h_given_v = torch.sigmoid(activation)\n",
        "    return p_h_given_v, torch.bernoulli(p_h_given_v)\n",
        "\n",
        "  # Gibs sampling on the visible nodes in the network\n",
        "  def sample_v(self, y):\n",
        "    wy = torch.mm(y, self.W)\n",
        "    activation = wy + self.b.expand_as(wy)\n",
        "    p_v_given_h = torch.sigmoid(activation)\n",
        "    return p_v_given_h, torch.bernoulli(p_v_given_h)\n",
        "\n",
        "  # Training the dataset using Constrastive divergence\n",
        "  # Using approximation of the Log-Likelihood Gradient\n",
        "  def train(self, v0, vk, ph0, phk):\n",
        "    self.W += (torch.mm(v0.t(),ph0) - torch.mm(vk.t(),phk)).t()\n",
        "    self.b += torch.sum((v0 - vk), 0)\n",
        "    self.a += torch.sum((ph0 - phk), 0)\n",
        "\n",
        "  # Predict method for output \n",
        "  def predict( self, x): # x: visible nodes\n",
        "    _, h = self.sample_h( x)\n",
        "    _, v = self.sample_v( h)\n",
        "    return v"
      ],
      "execution_count": 0,
      "outputs": []
    },
    {
      "cell_type": "code",
      "metadata": {
        "id": "MH8Ruti6804A",
        "colab_type": "code",
        "colab": {}
      },
      "source": [
        "nv = len(training_set[0])\n",
        "nh = 100\n",
        "batch_size = 100\n",
        "rbm = RBM(nv, nh)"
      ],
      "execution_count": 0,
      "outputs": []
    },
    {
      "cell_type": "code",
      "metadata": {
        "id": "Hpa3vbKA802B",
        "colab_type": "code",
        "outputId": "3b3b2a16-dbd6-47ea-9654-92f29efc0428",
        "colab": {
          "base_uri": "https://localhost:8080/",
          "height": 353
        }
      },
      "source": [
        "# Training the RBM\n",
        "nb_epoch = 10\n",
        "for epoch in range(1, nb_epoch + 1):\n",
        "  train_loss = 0\n",
        "  # Epoch Counter\n",
        "  s = 0\n",
        "  for id_user in range(0, max_users - batch_size, batch_size):\n",
        "\n",
        "    vk = training_set[id_user:id_user+batch_size]\n",
        "    v0 = training_set[id_user:id_user+batch_size]\n",
        "\n",
        "    ph0,_ = rbm.sample_h(v0)\n",
        "\n",
        "    for k in range(10):\n",
        "      _,hk = rbm.sample_h(vk)\n",
        "      _,vk = rbm.sample_v(hk)\n",
        "      vk[v0<0] = v0[v0<0]\n",
        "\n",
        "    phk,_ = rbm.sample_h(vk)\n",
        "\n",
        "    rbm.train(v0, vk, ph0, phk)\n",
        "    train_loss += torch.mean(torch.abs(v0[v0>=0] - vk[v0>=0]))\n",
        "\n",
        "    s += 1\n",
        "  print('No of Epoch : '+str(epoch)+' Total Loss : ' +str(train_loss/s)+ \"\\n\")"
      ],
      "execution_count": 27,
      "outputs": [
        {
          "output_type": "stream",
          "text": [
            "No of Epoch : 1 Total Loss : tensor(0.3872)\n",
            "\n",
            "No of Epoch : 2 Total Loss : tensor(0.2655)\n",
            "\n",
            "No of Epoch : 3 Total Loss : tensor(0.2553)\n",
            "\n",
            "No of Epoch : 4 Total Loss : tensor(0.2528)\n",
            "\n",
            "No of Epoch : 5 Total Loss : tensor(0.2489)\n",
            "\n",
            "No of Epoch : 6 Total Loss : tensor(0.2448)\n",
            "\n",
            "No of Epoch : 7 Total Loss : tensor(0.2370)\n",
            "\n",
            "No of Epoch : 8 Total Loss : tensor(0.2395)\n",
            "\n",
            "No of Epoch : 9 Total Loss : tensor(0.2420)\n",
            "\n",
            "No of Epoch : 10 Total Loss : tensor(0.2366)\n",
            "\n"
          ],
          "name": "stdout"
        }
      ]
    },
    {
      "cell_type": "code",
      "metadata": {
        "id": "afIzPjcC80xt",
        "colab_type": "code",
        "outputId": "7f3ff883-2356-433d-b37f-ab73c3625ac4",
        "colab": {
          "base_uri": "https://localhost:8080/",
          "height": 34
        }
      },
      "source": [
        "\n",
        "# Testing the RBM\n",
        "test_loss = 0\n",
        "s = 0.\n",
        "\n",
        "for id_user in range(max_users):\n",
        "\n",
        "    v = training_set[id_user:id_user+1]\n",
        "    vt = test_set[id_user:id_user+1]\n",
        "\n",
        "    if len(vt[vt>=0]) > 0:\n",
        "        _,h = rbm.sample_h(v)\n",
        "        _,v = rbm.sample_v(h)\n",
        "\n",
        "        test_loss += torch.mean(torch.abs(vt[vt>=0] - v[vt>=0]))\n",
        "\n",
        "        s += 1.\n",
        "print('Total test loss: '+ str(test_loss/s))"
      ],
      "execution_count": 28,
      "outputs": [
        {
          "output_type": "stream",
          "text": [
            "Total test loss: tensor(0.2346)\n"
          ],
          "name": "stdout"
        }
      ]
    },
    {
      "cell_type": "code",
      "metadata": {
        "id": "hKqI8IxdTh4c",
        "colab_type": "code",
        "colab": {}
      },
      "source": [
        "# Test set loss 0.25 -> System is 75% correctly recommending "
      ],
      "execution_count": 0,
      "outputs": []
    },
    {
      "cell_type": "code",
      "metadata": {
        "id": "2PEttRx21tRW",
        "colab_type": "code",
        "outputId": "a61af9ce-15b8-4182-9dd1-d6dd9339f654",
        "colab": {
          "base_uri": "https://localhost:8080/",
          "height": 34
        }
      },
      "source": [
        "## Testing on One output \n",
        "# User no 33\n",
        "\n",
        "y_pred = rbm.predict(test_set[33:34])\n",
        "print(y_pred)"
      ],
      "execution_count": 30,
      "outputs": [
        {
          "output_type": "stream",
          "text": [
            "tensor([[1., 1., 1.,  ..., 0., 0., 0.]])\n"
          ],
          "name": "stdout"
        }
      ]
    },
    {
      "cell_type": "code",
      "metadata": {
        "id": "YyT6eSK31tHy",
        "colab_type": "code",
        "outputId": "fafc62ec-670d-42d6-c674-94df6321de3e",
        "colab": {
          "base_uri": "https://localhost:8080/",
          "height": 34
        }
      },
      "source": [
        "y_pred.shape"
      ],
      "execution_count": 31,
      "outputs": [
        {
          "output_type": "execute_result",
          "data": {
            "text/plain": [
              "torch.Size([1, 193609])"
            ]
          },
          "metadata": {
            "tags": []
          },
          "execution_count": 31
        }
      ]
    },
    {
      "cell_type": "code",
      "metadata": {
        "id": "BnXoNXKB1sl0",
        "colab_type": "code",
        "colab": {}
      },
      "source": [
        "## Converting torch tensor into list\n",
        "y_pred_list = y_pred.numpy().tolist()"
      ],
      "execution_count": 0,
      "outputs": []
    },
    {
      "cell_type": "code",
      "metadata": {
        "id": "TqGld6lXIDHQ",
        "colab_type": "code",
        "colab": {}
      },
      "source": [
        "## Extracting movie indexes from list"
      ],
      "execution_count": 0,
      "outputs": []
    },
    {
      "cell_type": "code",
      "metadata": {
        "id": "zWWaj3UHIwuC",
        "colab_type": "code",
        "colab": {}
      },
      "source": [
        "movie_index = []\n",
        "for i in range(1, max_movies):\n",
        "  if y_pred_list[0][i] == 1:\n",
        "    movie_index.append(i)"
      ],
      "execution_count": 0,
      "outputs": []
    },
    {
      "cell_type": "code",
      "metadata": {
        "id": "nUavcUAbJ-q2",
        "colab_type": "code",
        "colab": {}
      },
      "source": [
        "user_33_watched = ratings[ratings[\"userId\"] == 33][\"movieId\"].tolist()"
      ],
      "execution_count": 0,
      "outputs": []
    },
    {
      "cell_type": "code",
      "metadata": {
        "id": "rFgmy32IKuqv",
        "colab_type": "code",
        "colab": {}
      },
      "source": [
        "## Removing indexes of movies already watched"
      ],
      "execution_count": 0,
      "outputs": []
    },
    {
      "cell_type": "code",
      "metadata": {
        "id": "SsxFMxwCLTqj",
        "colab_type": "code",
        "colab": {}
      },
      "source": [
        "for item in user_33_watched:\n",
        "  if item in movie_index:\n",
        "    movie_index.pop(item)"
      ],
      "execution_count": 0,
      "outputs": []
    },
    {
      "cell_type": "code",
      "metadata": {
        "id": "KzrGooxBNe4u",
        "colab_type": "code",
        "outputId": "56c37af9-0bc0-4274-95bb-7767d9f62f90",
        "colab": {
          "base_uri": "https://localhost:8080/",
          "height": 84
        }
      },
      "source": [
        "movies.dtypes"
      ],
      "execution_count": 38,
      "outputs": [
        {
          "output_type": "execute_result",
          "data": {
            "text/plain": [
              "movieId     int64\n",
              "title      object\n",
              "genres     object\n",
              "dtype: object"
            ]
          },
          "metadata": {
            "tags": []
          },
          "execution_count": 38
        }
      ]
    },
    {
      "cell_type": "code",
      "metadata": {
        "id": "NzXk_TyFL7Jw",
        "colab_type": "code",
        "outputId": "ac469c36-b222-4e0f-d206-6333667515a2",
        "colab": {
          "base_uri": "https://localhost:8080/",
          "height": 874
        }
      },
      "source": [
        "## Recommendations for user 33\n",
        "\n",
        "movies[movies['movieId'].isin(movie_index)][\"title\"].head(50)"
      ],
      "execution_count": 40,
      "outputs": [
        {
          "output_type": "execute_result",
          "data": {
            "text/plain": [
              "0                                      Toy Story (1995)\n",
              "4                    Father of the Bride Part II (1995)\n",
              "6                                        Sabrina (1995)\n",
              "8                                   Sudden Death (1995)\n",
              "9                                      GoldenEye (1995)\n",
              "11                   Dracula: Dead and Loving It (1995)\n",
              "12                                         Balto (1995)\n",
              "14                              Cutthroat Island (1995)\n",
              "15                                        Casino (1995)\n",
              "17                                    Four Rooms (1995)\n",
              "19                                   Money Train (1995)\n",
              "20                                    Get Shorty (1995)\n",
              "23                                        Powder (1995)\n",
              "24                             Leaving Las Vegas (1995)\n",
              "25                                       Othello (1995)\n",
              "26                                  Now and Then (1995)\n",
              "27                                    Persuasion (1995)\n",
              "29    Shanghai Triad (Yao a yao yao dao waipo qiao) ...\n",
              "30                               Dangerous Minds (1995)\n",
              "34                                  It Takes Two (1995)\n",
              "36                      Cry, the Beloved Country (1995)\n",
              "37                                   Richard III (1995)\n",
              "38                               Dead Presidents (1995)\n",
              "41                                    To Die For (1995)\n",
              "44                                    Pocahontas (1995)\n",
              "45                         When Night Is Falling (1995)\n",
              "49                                Big Green, The (1995)\n",
              "51                         Home for the Holidays (1995)\n",
              "54                                Eye for an Eye (1996)\n",
              "60                   French Twist (Gazon maudit) (1995)\n",
              "61                                        Friday (1995)\n",
              "65                               Misérables, Les (1995)\n",
              "69                                     Nico Icon (1995)\n",
              "71                                    Juror, The (1996)\n",
              "72          White Balloon, The (Badkonake sefid) (1995)\n",
              "74                      Antonia's Line (Antonia) (1995)\n",
              "76                            Angels and Insects (1995)\n",
              "77                                  White Squall (1996)\n",
              "78                             Dunston Checks In (1996)\n",
              "81                                   Mary Reilly (1996)\n",
              "82                           Vampire in Brooklyn (1995)\n",
              "83                               Beautiful Girls (1996)\n",
              "85                        In the Bleak Midwinter (1995)\n",
              "88                                     City Hall (1996)\n",
              "90                                     Mr. Wrong (1996)\n",
              "91                                 Unforgettable (1996)\n",
              "92                                 Happy Gilmore (1996)\n",
              "93                Bridges of Madison County, The (1995)\n",
              "97                                    Braveheart (1995)\n",
              "98                                   Taxi Driver (1976)\n",
              "Name: title, dtype: object"
            ]
          },
          "metadata": {
            "tags": []
          },
          "execution_count": 40
        }
      ]
    },
    {
      "cell_type": "code",
      "metadata": {
        "id": "P0CN4zYJL8xk",
        "colab_type": "code",
        "colab": {}
      },
      "source": [
        ""
      ],
      "execution_count": 0,
      "outputs": []
    }
  ]
}